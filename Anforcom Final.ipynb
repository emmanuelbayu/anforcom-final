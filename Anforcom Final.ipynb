{
 "cells": [
  {
   "cell_type": "code",
   "execution_count": 1,
   "metadata": {},
   "outputs": [],
   "source": [
    "import numpy as np\n",
    "import pandas as pd\n",
    "import matplotlib.pyplot as plt\n",
    "import seaborn as sns\n",
    "%matplotlib inline"
   ]
  },
  {
   "cell_type": "code",
   "execution_count": 2,
   "metadata": {},
   "outputs": [],
   "source": [
    "sns.set_style('darkgrid')"
   ]
  },
  {
   "cell_type": "code",
   "execution_count": 3,
   "metadata": {},
   "outputs": [],
   "source": [
    "train_data = pd.read_csv('train.csv')\n",
    "test_data = pd.read_csv('test.csv')"
   ]
  },
  {
   "cell_type": "code",
   "execution_count": 4,
   "metadata": {},
   "outputs": [
    {
     "name": "stdout",
     "output_type": "stream",
     "text": [
      "<class 'pandas.core.frame.DataFrame'>\n",
      "RangeIndex: 35886 entries, 0 to 35885\n",
      "Data columns (total 64 columns):\n",
      " #   Column   Non-Null Count  Dtype  \n",
      "---  ------   --------------  -----  \n",
      " 0   id       35886 non-null  int64  \n",
      " 1   phase    35886 non-null  object \n",
      " 2   E-1      35886 non-null  float64\n",
      " 3   E-2      35886 non-null  float64\n",
      " 4   E-3      35886 non-null  float64\n",
      " 5   E-4      35886 non-null  float64\n",
      " 6   E-5      35886 non-null  float64\n",
      " 7   E-6      35886 non-null  float64\n",
      " 8   E-7      35886 non-null  float64\n",
      " 9   E-8      35886 non-null  float64\n",
      " 10  E-9      35886 non-null  float64\n",
      " 11  E-10     35886 non-null  float64\n",
      " 12  E-11     35886 non-null  float64\n",
      " 13  E-12     35886 non-null  float64\n",
      " 14  E-13     35886 non-null  float64\n",
      " 15  E-14     35886 non-null  float64\n",
      " 16  E-15     35886 non-null  float64\n",
      " 17  E-16     35886 non-null  float64\n",
      " 18  E-17     35886 non-null  float64\n",
      " 19  E-18     35886 non-null  float64\n",
      " 20  E-19     35886 non-null  float64\n",
      " 21  E-20     35886 non-null  float64\n",
      " 22  N-1      35886 non-null  float64\n",
      " 23  N-2      35886 non-null  float64\n",
      " 24  N-3      35886 non-null  float64\n",
      " 25  N-4      35886 non-null  float64\n",
      " 26  N-5      35886 non-null  float64\n",
      " 27  N-6      35886 non-null  float64\n",
      " 28  N-7      35886 non-null  float64\n",
      " 29  N-8      35886 non-null  float64\n",
      " 30  N-9      35886 non-null  float64\n",
      " 31  N-10     35886 non-null  float64\n",
      " 32  N-11     35886 non-null  float64\n",
      " 33  N-12     35886 non-null  float64\n",
      " 34  N-13     35886 non-null  float64\n",
      " 35  N-14     35886 non-null  float64\n",
      " 36  N-15     35886 non-null  float64\n",
      " 37  N-16     35886 non-null  float64\n",
      " 38  N-17     35886 non-null  float64\n",
      " 39  N-18     35886 non-null  float64\n",
      " 40  N-19     35886 non-null  float64\n",
      " 41  N-20     35886 non-null  float64\n",
      " 42  Z-1      35886 non-null  float64\n",
      " 43  Z-2      35886 non-null  float64\n",
      " 44  Z-3      35886 non-null  float64\n",
      " 45  Z-4      35886 non-null  float64\n",
      " 46  Z-5      35886 non-null  float64\n",
      " 47  Z-6      35886 non-null  float64\n",
      " 48  Z-7      35886 non-null  float64\n",
      " 49  Z-8      35886 non-null  float64\n",
      " 50  Z-9      35886 non-null  float64\n",
      " 51  Z-10     35886 non-null  float64\n",
      " 52  Z-11     35886 non-null  float64\n",
      " 53  Z-12     35886 non-null  float64\n",
      " 54  Z-13     35886 non-null  float64\n",
      " 55  Z-14     35886 non-null  float64\n",
      " 56  Z-15     35886 non-null  float64\n",
      " 57  Z-16     35886 non-null  float64\n",
      " 58  Z-17     35886 non-null  float64\n",
      " 59  Z-18     35886 non-null  float64\n",
      " 60  Z-19     35886 non-null  float64\n",
      " 61  Z-20     35886 non-null  float64\n",
      " 62  station  35886 non-null  object \n",
      " 63  network  35886 non-null  object \n",
      "dtypes: float64(60), int64(1), object(3)\n",
      "memory usage: 17.5+ MB\n"
     ]
    }
   ],
   "source": [
    "train_data.info()"
   ]
  },
  {
   "cell_type": "code",
   "execution_count": 5,
   "metadata": {},
   "outputs": [
    {
     "name": "stdout",
     "output_type": "stream",
     "text": [
      "<class 'pandas.core.frame.DataFrame'>\n",
      "RangeIndex: 23924 entries, 0 to 23923\n",
      "Data columns (total 63 columns):\n",
      " #   Column   Non-Null Count  Dtype  \n",
      "---  ------   --------------  -----  \n",
      " 0   id       23924 non-null  int64  \n",
      " 1   E-1      23924 non-null  float64\n",
      " 2   E-2      23924 non-null  float64\n",
      " 3   E-3      23924 non-null  float64\n",
      " 4   E-4      23924 non-null  float64\n",
      " 5   E-5      23924 non-null  float64\n",
      " 6   E-6      23924 non-null  float64\n",
      " 7   E-7      23924 non-null  float64\n",
      " 8   E-8      23924 non-null  float64\n",
      " 9   E-9      23924 non-null  float64\n",
      " 10  E-10     23924 non-null  float64\n",
      " 11  E-11     23924 non-null  float64\n",
      " 12  E-12     23924 non-null  float64\n",
      " 13  E-13     23924 non-null  float64\n",
      " 14  E-14     23924 non-null  float64\n",
      " 15  E-15     23924 non-null  float64\n",
      " 16  E-16     23924 non-null  float64\n",
      " 17  E-17     23924 non-null  float64\n",
      " 18  E-18     23924 non-null  float64\n",
      " 19  E-19     23924 non-null  float64\n",
      " 20  E-20     23924 non-null  float64\n",
      " 21  N-1      23924 non-null  float64\n",
      " 22  N-2      23924 non-null  float64\n",
      " 23  N-3      23924 non-null  float64\n",
      " 24  N-4      23924 non-null  float64\n",
      " 25  N-5      23924 non-null  float64\n",
      " 26  N-6      23924 non-null  float64\n",
      " 27  N-7      23924 non-null  float64\n",
      " 28  N-8      23924 non-null  float64\n",
      " 29  N-9      23924 non-null  float64\n",
      " 30  N-10     23924 non-null  float64\n",
      " 31  N-11     23924 non-null  float64\n",
      " 32  N-12     23924 non-null  float64\n",
      " 33  N-13     23924 non-null  float64\n",
      " 34  N-14     23924 non-null  float64\n",
      " 35  N-15     23924 non-null  float64\n",
      " 36  N-16     23924 non-null  float64\n",
      " 37  N-17     23924 non-null  float64\n",
      " 38  N-18     23924 non-null  float64\n",
      " 39  N-19     23924 non-null  float64\n",
      " 40  N-20     23924 non-null  float64\n",
      " 41  Z-1      23924 non-null  float64\n",
      " 42  Z-2      23924 non-null  float64\n",
      " 43  Z-3      23924 non-null  float64\n",
      " 44  Z-4      23924 non-null  float64\n",
      " 45  Z-5      23924 non-null  float64\n",
      " 46  Z-6      23924 non-null  float64\n",
      " 47  Z-7      23924 non-null  float64\n",
      " 48  Z-8      23924 non-null  float64\n",
      " 49  Z-9      23924 non-null  float64\n",
      " 50  Z-10     23924 non-null  float64\n",
      " 51  Z-11     23924 non-null  float64\n",
      " 52  Z-12     23924 non-null  float64\n",
      " 53  Z-13     23924 non-null  float64\n",
      " 54  Z-14     23924 non-null  float64\n",
      " 55  Z-15     23924 non-null  float64\n",
      " 56  Z-16     23924 non-null  float64\n",
      " 57  Z-17     23924 non-null  float64\n",
      " 58  Z-18     23924 non-null  float64\n",
      " 59  Z-19     23924 non-null  float64\n",
      " 60  Z-20     23924 non-null  float64\n",
      " 61  station  23924 non-null  object \n",
      " 62  network  23924 non-null  object \n",
      "dtypes: float64(60), int64(1), object(2)\n",
      "memory usage: 11.5+ MB\n"
     ]
    }
   ],
   "source": [
    "test_data.info()"
   ]
  },
  {
   "cell_type": "code",
   "execution_count": 6,
   "metadata": {},
   "outputs": [
    {
     "data": {
      "text/html": [
       "<div>\n",
       "<style scoped>\n",
       "    .dataframe tbody tr th:only-of-type {\n",
       "        vertical-align: middle;\n",
       "    }\n",
       "\n",
       "    .dataframe tbody tr th {\n",
       "        vertical-align: top;\n",
       "    }\n",
       "\n",
       "    .dataframe thead th {\n",
       "        text-align: right;\n",
       "    }\n",
       "</style>\n",
       "<table border=\"1\" class=\"dataframe\">\n",
       "  <thead>\n",
       "    <tr style=\"text-align: right;\">\n",
       "      <th></th>\n",
       "      <th>id</th>\n",
       "      <th>phase</th>\n",
       "      <th>E-1</th>\n",
       "      <th>E-2</th>\n",
       "      <th>E-3</th>\n",
       "      <th>E-4</th>\n",
       "      <th>E-5</th>\n",
       "      <th>E-6</th>\n",
       "      <th>E-7</th>\n",
       "      <th>E-8</th>\n",
       "      <th>...</th>\n",
       "      <th>Z-13</th>\n",
       "      <th>Z-14</th>\n",
       "      <th>Z-15</th>\n",
       "      <th>Z-16</th>\n",
       "      <th>Z-17</th>\n",
       "      <th>Z-18</th>\n",
       "      <th>Z-19</th>\n",
       "      <th>Z-20</th>\n",
       "      <th>station</th>\n",
       "      <th>network</th>\n",
       "    </tr>\n",
       "  </thead>\n",
       "  <tbody>\n",
       "    <tr>\n",
       "      <th>0</th>\n",
       "      <td>0</td>\n",
       "      <td>After Coda End</td>\n",
       "      <td>-40.060604</td>\n",
       "      <td>-260.707855</td>\n",
       "      <td>-2295.125732</td>\n",
       "      <td>-5077.934570</td>\n",
       "      <td>-6510.237793</td>\n",
       "      <td>-6507.307617</td>\n",
       "      <td>-6570.841309</td>\n",
       "      <td>-6639.744141</td>\n",
       "      <td>...</td>\n",
       "      <td>-1636.636719</td>\n",
       "      <td>-481.137634</td>\n",
       "      <td>1250.591431</td>\n",
       "      <td>3423.129150</td>\n",
       "      <td>5408.335938</td>\n",
       "      <td>7083.473633</td>\n",
       "      <td>8639.500977</td>\n",
       "      <td>9888.334961</td>\n",
       "      <td>AOS</td>\n",
       "      <td>HT</td>\n",
       "    </tr>\n",
       "    <tr>\n",
       "      <th>1</th>\n",
       "      <td>1</td>\n",
       "      <td>After Coda End</td>\n",
       "      <td>-918.338989</td>\n",
       "      <td>-130.808212</td>\n",
       "      <td>-180.710327</td>\n",
       "      <td>-888.181763</td>\n",
       "      <td>-1270.482300</td>\n",
       "      <td>-1396.425903</td>\n",
       "      <td>-1328.800293</td>\n",
       "      <td>-1324.853394</td>\n",
       "      <td>...</td>\n",
       "      <td>-606.994751</td>\n",
       "      <td>-341.463318</td>\n",
       "      <td>-216.040726</td>\n",
       "      <td>-132.499832</td>\n",
       "      <td>415.490448</td>\n",
       "      <td>750.097290</td>\n",
       "      <td>1068.296143</td>\n",
       "      <td>1360.592407</td>\n",
       "      <td>AOS</td>\n",
       "      <td>HT</td>\n",
       "    </tr>\n",
       "    <tr>\n",
       "      <th>2</th>\n",
       "      <td>2</td>\n",
       "      <td>S Wave</td>\n",
       "      <td>-19588.193359</td>\n",
       "      <td>-22775.435547</td>\n",
       "      <td>-14151.219727</td>\n",
       "      <td>-1106.306152</td>\n",
       "      <td>479.042145</td>\n",
       "      <td>8777.960938</td>\n",
       "      <td>27075.169922</td>\n",
       "      <td>24998.861328</td>\n",
       "      <td>...</td>\n",
       "      <td>-6982.862305</td>\n",
       "      <td>-3364.717285</td>\n",
       "      <td>6015.947266</td>\n",
       "      <td>-10893.664062</td>\n",
       "      <td>-9635.690430</td>\n",
       "      <td>2515.936035</td>\n",
       "      <td>5403.634766</td>\n",
       "      <td>7697.293945</td>\n",
       "      <td>AC04</td>\n",
       "      <td>C1</td>\n",
       "    </tr>\n",
       "    <tr>\n",
       "      <th>3</th>\n",
       "      <td>3</td>\n",
       "      <td>Before P Arrival</td>\n",
       "      <td>71.364502</td>\n",
       "      <td>102.589439</td>\n",
       "      <td>140.858856</td>\n",
       "      <td>113.558861</td>\n",
       "      <td>72.772079</td>\n",
       "      <td>97.952866</td>\n",
       "      <td>132.099426</td>\n",
       "      <td>98.619576</td>\n",
       "      <td>...</td>\n",
       "      <td>-33.640625</td>\n",
       "      <td>-28.372875</td>\n",
       "      <td>-31.518494</td>\n",
       "      <td>-40.343090</td>\n",
       "      <td>-43.658840</td>\n",
       "      <td>-37.447033</td>\n",
       "      <td>-41.053375</td>\n",
       "      <td>-54.754852</td>\n",
       "      <td>AOS</td>\n",
       "      <td>HT</td>\n",
       "    </tr>\n",
       "    <tr>\n",
       "      <th>4</th>\n",
       "      <td>4</td>\n",
       "      <td>After Coda End</td>\n",
       "      <td>11264.663086</td>\n",
       "      <td>16095.182617</td>\n",
       "      <td>16701.796875</td>\n",
       "      <td>15911.804688</td>\n",
       "      <td>13841.098633</td>\n",
       "      <td>11352.826172</td>\n",
       "      <td>9862.090820</td>\n",
       "      <td>9329.799805</td>\n",
       "      <td>...</td>\n",
       "      <td>122089.867188</td>\n",
       "      <td>141905.125000</td>\n",
       "      <td>157348.359375</td>\n",
       "      <td>169389.234375</td>\n",
       "      <td>178161.437500</td>\n",
       "      <td>185418.484375</td>\n",
       "      <td>191004.015625</td>\n",
       "      <td>193284.250000</td>\n",
       "      <td>AMT</td>\n",
       "      <td>HP</td>\n",
       "    </tr>\n",
       "  </tbody>\n",
       "</table>\n",
       "<p>5 rows × 64 columns</p>\n",
       "</div>"
      ],
      "text/plain": [
       "   id             phase           E-1           E-2           E-3  \\\n",
       "0   0    After Coda End    -40.060604   -260.707855  -2295.125732   \n",
       "1   1    After Coda End   -918.338989   -130.808212   -180.710327   \n",
       "2   2            S Wave -19588.193359 -22775.435547 -14151.219727   \n",
       "3   3  Before P Arrival     71.364502    102.589439    140.858856   \n",
       "4   4    After Coda End  11264.663086  16095.182617  16701.796875   \n",
       "\n",
       "            E-4           E-5           E-6           E-7           E-8  ...  \\\n",
       "0  -5077.934570  -6510.237793  -6507.307617  -6570.841309  -6639.744141  ...   \n",
       "1   -888.181763  -1270.482300  -1396.425903  -1328.800293  -1324.853394  ...   \n",
       "2  -1106.306152    479.042145   8777.960938  27075.169922  24998.861328  ...   \n",
       "3    113.558861     72.772079     97.952866    132.099426     98.619576  ...   \n",
       "4  15911.804688  13841.098633  11352.826172   9862.090820   9329.799805  ...   \n",
       "\n",
       "            Z-13           Z-14           Z-15           Z-16           Z-17  \\\n",
       "0   -1636.636719    -481.137634    1250.591431    3423.129150    5408.335938   \n",
       "1    -606.994751    -341.463318    -216.040726    -132.499832     415.490448   \n",
       "2   -6982.862305   -3364.717285    6015.947266  -10893.664062   -9635.690430   \n",
       "3     -33.640625     -28.372875     -31.518494     -40.343090     -43.658840   \n",
       "4  122089.867188  141905.125000  157348.359375  169389.234375  178161.437500   \n",
       "\n",
       "            Z-18           Z-19           Z-20  station  network  \n",
       "0    7083.473633    8639.500977    9888.334961      AOS       HT  \n",
       "1     750.097290    1068.296143    1360.592407      AOS       HT  \n",
       "2    2515.936035    5403.634766    7697.293945     AC04       C1  \n",
       "3     -37.447033     -41.053375     -54.754852      AOS       HT  \n",
       "4  185418.484375  191004.015625  193284.250000      AMT       HP  \n",
       "\n",
       "[5 rows x 64 columns]"
      ]
     },
     "execution_count": 6,
     "metadata": {},
     "output_type": "execute_result"
    }
   ],
   "source": [
    "train_data.head()"
   ]
  },
  {
   "cell_type": "code",
   "execution_count": 7,
   "metadata": {},
   "outputs": [
    {
     "data": {
      "text/plain": [
       "After Coda End      16562\n",
       "S Wave              13322\n",
       "Before P Arrival     3780\n",
       "P Wave               1862\n",
       "Coda End              120\n",
       "P Arrival             120\n",
       "S Arrival             120\n",
       "Name: phase, dtype: int64"
      ]
     },
     "execution_count": 7,
     "metadata": {},
     "output_type": "execute_result"
    }
   ],
   "source": [
    "train_data['phase'].value_counts()"
   ]
  },
  {
   "cell_type": "code",
   "execution_count": 8,
   "metadata": {},
   "outputs": [
    {
     "data": {
      "text/plain": [
       "AOS     17943\n",
       "AC04    11962\n",
       "AMT      5981\n",
       "Name: station, dtype: int64"
      ]
     },
     "execution_count": 8,
     "metadata": {},
     "output_type": "execute_result"
    }
   ],
   "source": [
    "train_data['station'].value_counts()"
   ]
  },
  {
   "cell_type": "code",
   "execution_count": 9,
   "metadata": {},
   "outputs": [
    {
     "data": {
      "text/plain": [
       "HT    17943\n",
       "C1    11962\n",
       "HP     5981\n",
       "Name: network, dtype: int64"
      ]
     },
     "execution_count": 9,
     "metadata": {},
     "output_type": "execute_result"
    }
   ],
   "source": [
    "train_data['network'].value_counts()"
   ]
  },
  {
   "cell_type": "code",
   "execution_count": 10,
   "metadata": {},
   "outputs": [
    {
     "data": {
      "text/plain": [
       "6    16562\n",
       "4    13322\n",
       "0     3780\n",
       "2     1862\n",
       "1      120\n",
       "3      120\n",
       "5      120\n",
       "Name: phase, dtype: int64"
      ]
     },
     "execution_count": 10,
     "metadata": {},
     "output_type": "execute_result"
    }
   ],
   "source": [
    "#LABELING PHASE VALUES\n",
    "label = {\n",
    "    'phase' : {\n",
    "        'Before P Arrival' : 0,\n",
    "        'P Arrival' : 1,\n",
    "        'P Wave' : 2,\n",
    "        'S Arrival' : 3,\n",
    "        'S Wave' : 4,\n",
    "        'Coda End' : 5,\n",
    "        'After Coda End' : 6,\n",
    "    }\n",
    "}\n",
    "\n",
    "train_data.replace(label, inplace=True)\n",
    "train_data['phase'].value_counts()"
   ]
  },
  {
   "cell_type": "code",
   "execution_count": 11,
   "metadata": {},
   "outputs": [
    {
     "name": "stdout",
     "output_type": "stream",
     "text": [
      "<class 'pandas.core.frame.DataFrame'>\n",
      "RangeIndex: 35886 entries, 0 to 35885\n",
      "Data columns (total 64 columns):\n",
      " #   Column   Non-Null Count  Dtype  \n",
      "---  ------   --------------  -----  \n",
      " 0   id       35886 non-null  int64  \n",
      " 1   phase    35886 non-null  int64  \n",
      " 2   E-1      35886 non-null  float64\n",
      " 3   E-2      35886 non-null  float64\n",
      " 4   E-3      35886 non-null  float64\n",
      " 5   E-4      35886 non-null  float64\n",
      " 6   E-5      35886 non-null  float64\n",
      " 7   E-6      35886 non-null  float64\n",
      " 8   E-7      35886 non-null  float64\n",
      " 9   E-8      35886 non-null  float64\n",
      " 10  E-9      35886 non-null  float64\n",
      " 11  E-10     35886 non-null  float64\n",
      " 12  E-11     35886 non-null  float64\n",
      " 13  E-12     35886 non-null  float64\n",
      " 14  E-13     35886 non-null  float64\n",
      " 15  E-14     35886 non-null  float64\n",
      " 16  E-15     35886 non-null  float64\n",
      " 17  E-16     35886 non-null  float64\n",
      " 18  E-17     35886 non-null  float64\n",
      " 19  E-18     35886 non-null  float64\n",
      " 20  E-19     35886 non-null  float64\n",
      " 21  E-20     35886 non-null  float64\n",
      " 22  N-1      35886 non-null  float64\n",
      " 23  N-2      35886 non-null  float64\n",
      " 24  N-3      35886 non-null  float64\n",
      " 25  N-4      35886 non-null  float64\n",
      " 26  N-5      35886 non-null  float64\n",
      " 27  N-6      35886 non-null  float64\n",
      " 28  N-7      35886 non-null  float64\n",
      " 29  N-8      35886 non-null  float64\n",
      " 30  N-9      35886 non-null  float64\n",
      " 31  N-10     35886 non-null  float64\n",
      " 32  N-11     35886 non-null  float64\n",
      " 33  N-12     35886 non-null  float64\n",
      " 34  N-13     35886 non-null  float64\n",
      " 35  N-14     35886 non-null  float64\n",
      " 36  N-15     35886 non-null  float64\n",
      " 37  N-16     35886 non-null  float64\n",
      " 38  N-17     35886 non-null  float64\n",
      " 39  N-18     35886 non-null  float64\n",
      " 40  N-19     35886 non-null  float64\n",
      " 41  N-20     35886 non-null  float64\n",
      " 42  Z-1      35886 non-null  float64\n",
      " 43  Z-2      35886 non-null  float64\n",
      " 44  Z-3      35886 non-null  float64\n",
      " 45  Z-4      35886 non-null  float64\n",
      " 46  Z-5      35886 non-null  float64\n",
      " 47  Z-6      35886 non-null  float64\n",
      " 48  Z-7      35886 non-null  float64\n",
      " 49  Z-8      35886 non-null  float64\n",
      " 50  Z-9      35886 non-null  float64\n",
      " 51  Z-10     35886 non-null  float64\n",
      " 52  Z-11     35886 non-null  float64\n",
      " 53  Z-12     35886 non-null  float64\n",
      " 54  Z-13     35886 non-null  float64\n",
      " 55  Z-14     35886 non-null  float64\n",
      " 56  Z-15     35886 non-null  float64\n",
      " 57  Z-16     35886 non-null  float64\n",
      " 58  Z-17     35886 non-null  float64\n",
      " 59  Z-18     35886 non-null  float64\n",
      " 60  Z-19     35886 non-null  float64\n",
      " 61  Z-20     35886 non-null  float64\n",
      " 62  station  35886 non-null  object \n",
      " 63  network  35886 non-null  object \n",
      "dtypes: float64(60), int64(2), object(2)\n",
      "memory usage: 17.5+ MB\n"
     ]
    }
   ],
   "source": [
    "train_data.info()"
   ]
  },
  {
   "cell_type": "code",
   "execution_count": 12,
   "metadata": {},
   "outputs": [
    {
     "data": {
      "text/plain": [
       "<AxesSubplot:xlabel='station', ylabel='count'>"
      ]
     },
     "execution_count": 12,
     "metadata": {},
     "output_type": "execute_result"
    },
    {
     "data": {
      "image/png": "[encoded data removed]",
      "text/plain": [
       "<Figure size 432x288 with 1 Axes>"
      ]
     },
     "metadata": {},
     "output_type": "display_data"
    }
   ],
   "source": [
    "sns.countplot(x='station', data=train_data, hue='phase')"
   ]
  },
  {
   "cell_type": "code",
   "execution_count": 13,
   "metadata": {},
   "outputs": [
    {
     "data": {
      "text/plain": [
       "<AxesSubplot:xlabel='network', ylabel='count'>"
      ]
     },
     "execution_count": 13,
     "metadata": {},
     "output_type": "execute_result"
    },
    {
     "data": {
      "image/png": "[encoded data removed]",
      "text/plain": [
       "<Figure size 432x288 with 1 Axes>"
      ]
     },
     "metadata": {},
     "output_type": "display_data"
    }
   ],
   "source": [
    "sns.countplot(x='network', data=train_data, hue='phase')"
   ]
  },
  {
   "cell_type": "code",
   "execution_count": 14,
   "metadata": {},
   "outputs": [
    {
     "data": {
      "text/html": [
       "<div>\n",
       "<style scoped>\n",
       "    .dataframe tbody tr th:only-of-type {\n",
       "        vertical-align: middle;\n",
       "    }\n",
       "\n",
       "    .dataframe tbody tr th {\n",
       "        vertical-align: top;\n",
       "    }\n",
       "\n",
       "    .dataframe thead th {\n",
       "        text-align: right;\n",
       "    }\n",
       "</style>\n",
       "<table border=\"1\" class=\"dataframe\">\n",
       "  <thead>\n",
       "    <tr style=\"text-align: right;\">\n",
       "      <th></th>\n",
       "      <th>station_AMT</th>\n",
       "      <th>station_AOS</th>\n",
       "    </tr>\n",
       "  </thead>\n",
       "  <tbody>\n",
       "    <tr>\n",
       "      <th>0</th>\n",
       "      <td>0</td>\n",
       "      <td>1</td>\n",
       "    </tr>\n",
       "    <tr>\n",
       "      <th>1</th>\n",
       "      <td>0</td>\n",
       "      <td>1</td>\n",
       "    </tr>\n",
       "    <tr>\n",
       "      <th>2</th>\n",
       "      <td>0</td>\n",
       "      <td>0</td>\n",
       "    </tr>\n",
       "    <tr>\n",
       "      <th>3</th>\n",
       "      <td>0</td>\n",
       "      <td>1</td>\n",
       "    </tr>\n",
       "    <tr>\n",
       "      <th>4</th>\n",
       "      <td>1</td>\n",
       "      <td>0</td>\n",
       "    </tr>\n",
       "  </tbody>\n",
       "</table>\n",
       "</div>"
      ],
      "text/plain": [
       "   station_AMT  station_AOS\n",
       "0            0            1\n",
       "1            0            1\n",
       "2            0            0\n",
       "3            0            1\n",
       "4            1            0"
      ]
     },
     "execution_count": 14,
     "metadata": {},
     "output_type": "execute_result"
    }
   ],
   "source": [
    "#ONE HOT ENCDOING STATION COLUMN\n",
    "Station = train_data[['station']]\n",
    "Station = pd.get_dummies(Station, drop_first=True)\n",
    "Station.head()"
   ]
  },
  {
   "cell_type": "code",
   "execution_count": 15,
   "metadata": {},
   "outputs": [
    {
     "data": {
      "text/html": [
       "<div>\n",
       "<style scoped>\n",
       "    .dataframe tbody tr th:only-of-type {\n",
       "        vertical-align: middle;\n",
       "    }\n",
       "\n",
       "    .dataframe tbody tr th {\n",
       "        vertical-align: top;\n",
       "    }\n",
       "\n",
       "    .dataframe thead th {\n",
       "        text-align: right;\n",
       "    }\n",
       "</style>\n",
       "<table border=\"1\" class=\"dataframe\">\n",
       "  <thead>\n",
       "    <tr style=\"text-align: right;\">\n",
       "      <th></th>\n",
       "      <th>network_HP</th>\n",
       "      <th>network_HT</th>\n",
       "    </tr>\n",
       "  </thead>\n",
       "  <tbody>\n",
       "    <tr>\n",
       "      <th>0</th>\n",
       "      <td>0</td>\n",
       "      <td>1</td>\n",
       "    </tr>\n",
       "    <tr>\n",
       "      <th>1</th>\n",
       "      <td>0</td>\n",
       "      <td>1</td>\n",
       "    </tr>\n",
       "    <tr>\n",
       "      <th>2</th>\n",
       "      <td>0</td>\n",
       "      <td>0</td>\n",
       "    </tr>\n",
       "    <tr>\n",
       "      <th>3</th>\n",
       "      <td>0</td>\n",
       "      <td>1</td>\n",
       "    </tr>\n",
       "    <tr>\n",
       "      <th>4</th>\n",
       "      <td>1</td>\n",
       "      <td>0</td>\n",
       "    </tr>\n",
       "  </tbody>\n",
       "</table>\n",
       "</div>"
      ],
      "text/plain": [
       "   network_HP  network_HT\n",
       "0           0           1\n",
       "1           0           1\n",
       "2           0           0\n",
       "3           0           1\n",
       "4           1           0"
      ]
     },
     "execution_count": 15,
     "metadata": {},
     "output_type": "execute_result"
    }
   ],
   "source": [
    "#ONE HOT ENCODING NETWORK COLUMN\n",
    "Network = train_data[['network']]\n",
    "Network = pd.get_dummies(Network, drop_first=True)\n",
    "Network.head()"
   ]
  },
  {
   "cell_type": "code",
   "execution_count": 16,
   "metadata": {},
   "outputs": [
    {
     "name": "stdout",
     "output_type": "stream",
     "text": [
      "<class 'pandas.core.frame.DataFrame'>\n",
      "RangeIndex: 35886 entries, 0 to 35885\n",
      "Data columns (total 66 columns):\n",
      " #   Column       Non-Null Count  Dtype  \n",
      "---  ------       --------------  -----  \n",
      " 0   id           35886 non-null  int64  \n",
      " 1   phase        35886 non-null  int64  \n",
      " 2   E-1          35886 non-null  float64\n",
      " 3   E-2          35886 non-null  float64\n",
      " 4   E-3          35886 non-null  float64\n",
      " 5   E-4          35886 non-null  float64\n",
      " 6   E-5          35886 non-null  float64\n",
      " 7   E-6          35886 non-null  float64\n",
      " 8   E-7          35886 non-null  float64\n",
      " 9   E-8          35886 non-null  float64\n",
      " 10  E-9          35886 non-null  float64\n",
      " 11  E-10         35886 non-null  float64\n",
      " 12  E-11         35886 non-null  float64\n",
      " 13  E-12         35886 non-null  float64\n",
      " 14  E-13         35886 non-null  float64\n",
      " 15  E-14         35886 non-null  float64\n",
      " 16  E-15         35886 non-null  float64\n",
      " 17  E-16         35886 non-null  float64\n",
      " 18  E-17         35886 non-null  float64\n",
      " 19  E-18         35886 non-null  float64\n",
      " 20  E-19         35886 non-null  float64\n",
      " 21  E-20         35886 non-null  float64\n",
      " 22  N-1          35886 non-null  float64\n",
      " 23  N-2          35886 non-null  float64\n",
      " 24  N-3          35886 non-null  float64\n",
      " 25  N-4          35886 non-null  float64\n",
      " 26  N-5          35886 non-null  float64\n",
      " 27  N-6          35886 non-null  float64\n",
      " 28  N-7          35886 non-null  float64\n",
      " 29  N-8          35886 non-null  float64\n",
      " 30  N-9          35886 non-null  float64\n",
      " 31  N-10         35886 non-null  float64\n",
      " 32  N-11         35886 non-null  float64\n",
      " 33  N-12         35886 non-null  float64\n",
      " 34  N-13         35886 non-null  float64\n",
      " 35  N-14         35886 non-null  float64\n",
      " 36  N-15         35886 non-null  float64\n",
      " 37  N-16         35886 non-null  float64\n",
      " 38  N-17         35886 non-null  float64\n",
      " 39  N-18         35886 non-null  float64\n",
      " 40  N-19         35886 non-null  float64\n",
      " 41  N-20         35886 non-null  float64\n",
      " 42  Z-1          35886 non-null  float64\n",
      " 43  Z-2          35886 non-null  float64\n",
      " 44  Z-3          35886 non-null  float64\n",
      " 45  Z-4          35886 non-null  float64\n",
      " 46  Z-5          35886 non-null  float64\n",
      " 47  Z-6          35886 non-null  float64\n",
      " 48  Z-7          35886 non-null  float64\n",
      " 49  Z-8          35886 non-null  float64\n",
      " 50  Z-9          35886 non-null  float64\n",
      " 51  Z-10         35886 non-null  float64\n",
      " 52  Z-11         35886 non-null  float64\n",
      " 53  Z-12         35886 non-null  float64\n",
      " 54  Z-13         35886 non-null  float64\n",
      " 55  Z-14         35886 non-null  float64\n",
      " 56  Z-15         35886 non-null  float64\n",
      " 57  Z-16         35886 non-null  float64\n",
      " 58  Z-17         35886 non-null  float64\n",
      " 59  Z-18         35886 non-null  float64\n",
      " 60  Z-19         35886 non-null  float64\n",
      " 61  Z-20         35886 non-null  float64\n",
      " 62  station_AMT  35886 non-null  uint8  \n",
      " 63  station_AOS  35886 non-null  uint8  \n",
      " 64  network_HP   35886 non-null  uint8  \n",
      " 65  network_HT   35886 non-null  uint8  \n",
      "dtypes: float64(60), int64(2), uint8(4)\n",
      "memory usage: 17.1 MB\n"
     ]
    }
   ],
   "source": [
    "final_train = pd.concat([train_data, Station, Network], axis=1)\n",
    "final_train.drop(['station', 'network'], axis=1, inplace=True)\n",
    "final_train.info()"
   ]
  },
  {
   "cell_type": "code",
   "execution_count": 17,
   "metadata": {},
   "outputs": [],
   "source": [
    "#TEST DATA"
   ]
  },
  {
   "cell_type": "code",
   "execution_count": 18,
   "metadata": {},
   "outputs": [
    {
     "data": {
      "text/html": [
       "<div>\n",
       "<style scoped>\n",
       "    .dataframe tbody tr th:only-of-type {\n",
       "        vertical-align: middle;\n",
       "    }\n",
       "\n",
       "    .dataframe tbody tr th {\n",
       "        vertical-align: top;\n",
       "    }\n",
       "\n",
       "    .dataframe thead th {\n",
       "        text-align: right;\n",
       "    }\n",
       "</style>\n",
       "<table border=\"1\" class=\"dataframe\">\n",
       "  <thead>\n",
       "    <tr style=\"text-align: right;\">\n",
       "      <th></th>\n",
       "      <th>station_AMT</th>\n",
       "      <th>station_AOS</th>\n",
       "    </tr>\n",
       "  </thead>\n",
       "  <tbody>\n",
       "    <tr>\n",
       "      <th>0</th>\n",
       "      <td>1</td>\n",
       "      <td>0</td>\n",
       "    </tr>\n",
       "    <tr>\n",
       "      <th>1</th>\n",
       "      <td>1</td>\n",
       "      <td>0</td>\n",
       "    </tr>\n",
       "    <tr>\n",
       "      <th>2</th>\n",
       "      <td>0</td>\n",
       "      <td>0</td>\n",
       "    </tr>\n",
       "    <tr>\n",
       "      <th>3</th>\n",
       "      <td>0</td>\n",
       "      <td>1</td>\n",
       "    </tr>\n",
       "    <tr>\n",
       "      <th>4</th>\n",
       "      <td>0</td>\n",
       "      <td>1</td>\n",
       "    </tr>\n",
       "  </tbody>\n",
       "</table>\n",
       "</div>"
      ],
      "text/plain": [
       "   station_AMT  station_AOS\n",
       "0            1            0\n",
       "1            1            0\n",
       "2            0            0\n",
       "3            0            1\n",
       "4            0            1"
      ]
     },
     "execution_count": 18,
     "metadata": {},
     "output_type": "execute_result"
    }
   ],
   "source": [
    "station = test_data[['station']]\n",
    "station = pd.get_dummies(station, drop_first=True)\n",
    "station.head()"
   ]
  },
  {
   "cell_type": "code",
   "execution_count": 19,
   "metadata": {},
   "outputs": [
    {
     "data": {
      "text/html": [
       "<div>\n",
       "<style scoped>\n",
       "    .dataframe tbody tr th:only-of-type {\n",
       "        vertical-align: middle;\n",
       "    }\n",
       "\n",
       "    .dataframe tbody tr th {\n",
       "        vertical-align: top;\n",
       "    }\n",
       "\n",
       "    .dataframe thead th {\n",
       "        text-align: right;\n",
       "    }\n",
       "</style>\n",
       "<table border=\"1\" class=\"dataframe\">\n",
       "  <thead>\n",
       "    <tr style=\"text-align: right;\">\n",
       "      <th></th>\n",
       "      <th>network_HP</th>\n",
       "      <th>network_HT</th>\n",
       "    </tr>\n",
       "  </thead>\n",
       "  <tbody>\n",
       "    <tr>\n",
       "      <th>0</th>\n",
       "      <td>1</td>\n",
       "      <td>0</td>\n",
       "    </tr>\n",
       "    <tr>\n",
       "      <th>1</th>\n",
       "      <td>1</td>\n",
       "      <td>0</td>\n",
       "    </tr>\n",
       "    <tr>\n",
       "      <th>2</th>\n",
       "      <td>0</td>\n",
       "      <td>0</td>\n",
       "    </tr>\n",
       "    <tr>\n",
       "      <th>3</th>\n",
       "      <td>0</td>\n",
       "      <td>1</td>\n",
       "    </tr>\n",
       "    <tr>\n",
       "      <th>4</th>\n",
       "      <td>0</td>\n",
       "      <td>1</td>\n",
       "    </tr>\n",
       "  </tbody>\n",
       "</table>\n",
       "</div>"
      ],
      "text/plain": [
       "   network_HP  network_HT\n",
       "0           1           0\n",
       "1           1           0\n",
       "2           0           0\n",
       "3           0           1\n",
       "4           0           1"
      ]
     },
     "execution_count": 19,
     "metadata": {},
     "output_type": "execute_result"
    }
   ],
   "source": [
    "network = test_data[['network']]\n",
    "network = pd.get_dummies(network, drop_first=True)\n",
    "network.head()"
   ]
  },
  {
   "cell_type": "code",
   "execution_count": 20,
   "metadata": {},
   "outputs": [
    {
     "name": "stdout",
     "output_type": "stream",
     "text": [
      "<class 'pandas.core.frame.DataFrame'>\n",
      "RangeIndex: 23924 entries, 0 to 23923\n",
      "Data columns (total 65 columns):\n",
      " #   Column       Non-Null Count  Dtype  \n",
      "---  ------       --------------  -----  \n",
      " 0   id           23924 non-null  int64  \n",
      " 1   E-1          23924 non-null  float64\n",
      " 2   E-2          23924 non-null  float64\n",
      " 3   E-3          23924 non-null  float64\n",
      " 4   E-4          23924 non-null  float64\n",
      " 5   E-5          23924 non-null  float64\n",
      " 6   E-6          23924 non-null  float64\n",
      " 7   E-7          23924 non-null  float64\n",
      " 8   E-8          23924 non-null  float64\n",
      " 9   E-9          23924 non-null  float64\n",
      " 10  E-10         23924 non-null  float64\n",
      " 11  E-11         23924 non-null  float64\n",
      " 12  E-12         23924 non-null  float64\n",
      " 13  E-13         23924 non-null  float64\n",
      " 14  E-14         23924 non-null  float64\n",
      " 15  E-15         23924 non-null  float64\n",
      " 16  E-16         23924 non-null  float64\n",
      " 17  E-17         23924 non-null  float64\n",
      " 18  E-18         23924 non-null  float64\n",
      " 19  E-19         23924 non-null  float64\n",
      " 20  E-20         23924 non-null  float64\n",
      " 21  N-1          23924 non-null  float64\n",
      " 22  N-2          23924 non-null  float64\n",
      " 23  N-3          23924 non-null  float64\n",
      " 24  N-4          23924 non-null  float64\n",
      " 25  N-5          23924 non-null  float64\n",
      " 26  N-6          23924 non-null  float64\n",
      " 27  N-7          23924 non-null  float64\n",
      " 28  N-8          23924 non-null  float64\n",
      " 29  N-9          23924 non-null  float64\n",
      " 30  N-10         23924 non-null  float64\n",
      " 31  N-11         23924 non-null  float64\n",
      " 32  N-12         23924 non-null  float64\n",
      " 33  N-13         23924 non-null  float64\n",
      " 34  N-14         23924 non-null  float64\n",
      " 35  N-15         23924 non-null  float64\n",
      " 36  N-16         23924 non-null  float64\n",
      " 37  N-17         23924 non-null  float64\n",
      " 38  N-18         23924 non-null  float64\n",
      " 39  N-19         23924 non-null  float64\n",
      " 40  N-20         23924 non-null  float64\n",
      " 41  Z-1          23924 non-null  float64\n",
      " 42  Z-2          23924 non-null  float64\n",
      " 43  Z-3          23924 non-null  float64\n",
      " 44  Z-4          23924 non-null  float64\n",
      " 45  Z-5          23924 non-null  float64\n",
      " 46  Z-6          23924 non-null  float64\n",
      " 47  Z-7          23924 non-null  float64\n",
      " 48  Z-8          23924 non-null  float64\n",
      " 49  Z-9          23924 non-null  float64\n",
      " 50  Z-10         23924 non-null  float64\n",
      " 51  Z-11         23924 non-null  float64\n",
      " 52  Z-12         23924 non-null  float64\n",
      " 53  Z-13         23924 non-null  float64\n",
      " 54  Z-14         23924 non-null  float64\n",
      " 55  Z-15         23924 non-null  float64\n",
      " 56  Z-16         23924 non-null  float64\n",
      " 57  Z-17         23924 non-null  float64\n",
      " 58  Z-18         23924 non-null  float64\n",
      " 59  Z-19         23924 non-null  float64\n",
      " 60  Z-20         23924 non-null  float64\n",
      " 61  station_AMT  23924 non-null  uint8  \n",
      " 62  station_AOS  23924 non-null  uint8  \n",
      " 63  network_HP   23924 non-null  uint8  \n",
      " 64  network_HT   23924 non-null  uint8  \n",
      "dtypes: float64(60), int64(1), uint8(4)\n",
      "memory usage: 11.2 MB\n"
     ]
    }
   ],
   "source": [
    "final_test = pd.concat([test_data, station, network], axis=1)\n",
    "final_test.drop(['station', 'network'], axis=1, inplace=True)\n",
    "final_test.info()"
   ]
  },
  {
   "cell_type": "code",
   "execution_count": 21,
   "metadata": {},
   "outputs": [],
   "source": [
    "#MODELLING"
   ]
  },
  {
   "cell_type": "code",
   "execution_count": 22,
   "metadata": {},
   "outputs": [
    {
     "name": "stdout",
     "output_type": "stream",
     "text": [
      "(35886, 64)\n",
      "(35886,)\n",
      "(23924, 64)\n"
     ]
    }
   ],
   "source": [
    "X_train = final_train.drop(['id', 'phase'], axis=1)\n",
    "y_train = final_train['phase']\n",
    "X_test = final_test.drop(['id'], axis=1)\n",
    "\n",
    "print(X_train.shape)\n",
    "print(y_train.shape)\n",
    "print(X_test.shape)"
   ]
  },
  {
   "cell_type": "code",
   "execution_count": 23,
   "metadata": {},
   "outputs": [],
   "source": [
    "from sklearn.ensemble import RandomForestClassifier"
   ]
  },
  {
   "cell_type": "code",
   "execution_count": 24,
   "metadata": {},
   "outputs": [],
   "source": [
    "rfc = RandomForestClassifier(max_features='sqrt', max_depth=15, min_samples_split=2, min_samples_leaf=1, n_estimators=400)\n",
    "rfc.fit(X_train, y_train)\n",
    "pred = rfc.predict(X_test)"
   ]
  },
  {
   "cell_type": "code",
   "execution_count": 25,
   "metadata": {},
   "outputs": [
    {
     "name": "stdout",
     "output_type": "stream",
     "text": [
      "Accuracy on Traning set:  0.9557766259822772\n"
     ]
    },
    {
     "data": {
      "text/plain": [
       "6    13193\n",
       "4     6710\n",
       "0     2926\n",
       "2      955\n",
       "3       60\n",
       "1       40\n",
       "5       40\n",
       "Name: phase, dtype: int64"
      ]
     },
     "execution_count": 25,
     "metadata": {},
     "output_type": "execute_result"
    }
   ],
   "source": [
    "print(\"Accuracy on Traning set: \",rfc.score(X_train,y_train))\n",
    "hasil_rfc = pd.DataFrame({\n",
    "    'id' : final_test['id'],\n",
    "    'phase' : pred\n",
    "})\n",
    "hasil_rfc['phase'].value_counts()"
   ]
  },
  {
   "cell_type": "code",
   "execution_count": 26,
   "metadata": {},
   "outputs": [],
   "source": [
    "hasil_rfc.to_csv('submission2.csv', index=False)"
   ]
  }
 ],
 "metadata": {
  "kernelspec": {
   "display_name": "Python 3",
   "language": "python",
   "name": "python3"
  },
  "language_info": {
   "codemirror_mode": {
    "name": "ipython",
    "version": 3
   },
   "file_extension": ".py",
   "mimetype": "text/x-python",
   "name": "python",
   "nbconvert_exporter": "python",
   "pygments_lexer": "ipython3",
   "version": "3.9.5"
  }
 },
 "nbformat": 4,
 "nbformat_minor": 4
}
